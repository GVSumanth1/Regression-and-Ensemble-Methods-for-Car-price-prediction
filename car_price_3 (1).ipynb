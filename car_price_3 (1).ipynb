{
  "cells": [
    {
      "cell_type": "markdown",
      "metadata": {
        "id": "KsiXSyo2dyLs"
      },
      "source": [
        "# Import libraries"
      ]
    },
    {
      "cell_type": "code",
      "execution_count": null,
      "metadata": {
        "id": "_L3qaaEidyLt"
      },
      "outputs": [],
      "source": [
        "# Data Manipulation and Analysis Libraries\n",
        "import pandas as pd # Used for creating and manipulating DataFrames\n",
        "import numpy as np  # Used for numerical operations, especially for mathematical functions like log\n",
        "\n",
        "# Data Visualization Libraries\n",
        "import seaborn as sns\n",
        "import matplotlib.pyplot as plt\n",
        "\n",
        "# Scikit-learn: Preprocessing and Model Selection\n",
        "from sklearn.model_selection import train_test_split, GridSearchCV, RandomizedSearchCV # train_test_split for splitting data, GridSearchCV/RandomizedSearchCV for hyperparameter tuning\n",
        "from sklearn.preprocessing import StandardScaler, LabelEncoder, OrdinalEncoder # StandardScaler for feature scaling, LabelEncoder/OrdinalEncoder for encoding categorical features (though one-hot encoding is primarily used here)\n",
        "from sklearn.model_selection import cross_val_score, cross_val_predict # For cross-validation techniques\n",
        "\n",
        "# Scikit-learn: Regression Models\n",
        "from sklearn.linear_model import LinearRegression, RidgeCV, LassoCV # Linear Regression for baseline, RidgeCV/LassoCV for regularized linear models to avoid overfitting with built-in cross-validation\n",
        "from sklearn.ensemble import RandomForestRegressor, GradientBoostingRegressor, StackingRegressor # Ensemble models: Random Forest, Gradient Boosting, and Stacking (combining multiple models)\n",
        "\n",
        "# External Gradient Boosting Libraries (often higher performance)\n",
        "from xgboost import XGBRegressor       # Extreme Gradient Boosting (optimized gradient boosting)\n",
        "import lightgbm as lgb                 # Light Gradient Boosting Machine (fast, high-performance gradient boosting)\n",
        "from catboost import CatBoostRegressor # Categorical Boosting (handles categorical features well, fast)\n",
        "\n",
        "# Scikit-learn: Model Evaluation Metrics\n",
        "from sklearn.metrics import mean_absolute_error, r2_score, root_mean_squared_error, mean_squared_error # Metrics to evaluate model performance: MAE, R2, RMSE, MSE\n",
        "\n",
        "# Statistical Analysis and Utility Libraries\n",
        "import statsmodels.api as sm # For statistical modeling and detailed analysis (e.g., OLS)\n",
        "import time                  # For timing the execution of code blocks (e.g., model training time)\n",
        "from sklearn.pipeline import Pipeline # For chaining multiple processing steps and a model into a single object"
      ]
    },
    {
      "cell_type": "markdown",
      "metadata": {
        "id": "rZAJ7_BadyLu"
      },
      "source": [
        "# IMPORT THE DATASET FROM CSV FILE"
      ]
    },
    {
      "cell_type": "code",
      "execution_count": null,
      "metadata": {
        "id": "k1q1B_9xdyLv"
      },
      "outputs": [],
      "source": [
        "cars_df1 = pd.read_csv(r'C:\\Users\\aadik\\Desktop\\Advance Programing\\vehicles.csv')"
      ]
    },
    {
      "cell_type": "code",
      "execution_count": null,
      "metadata": {
        "id": "Qp2oFGhWdyLv",
        "outputId": "178fc6de-d17b-4867-9178-643d04bce5c2"
      },
      "outputs": [
        {
          "data": {
            "text/html": [
              "<div>\n",
              "<style scoped>\n",
              "    .dataframe tbody tr th:only-of-type {\n",
              "        vertical-align: middle;\n",
              "    }\n",
              "\n",
              "    .dataframe tbody tr th {\n",
              "        vertical-align: top;\n",
              "    }\n",
              "\n",
              "    .dataframe thead th {\n",
              "        text-align: right;\n",
              "    }\n",
              "</style>\n",
              "<table border=\"1\" class=\"dataframe\">\n",
              "  <thead>\n",
              "    <tr style=\"text-align: right;\">\n",
              "      <th></th>\n",
              "      <th>id</th>\n",
              "      <th>url</th>\n",
              "      <th>region</th>\n",
              "      <th>region_url</th>\n",
              "      <th>price</th>\n",
              "      <th>year</th>\n",
              "      <th>manufacturer</th>\n",
              "      <th>model</th>\n",
              "      <th>condition</th>\n",
              "      <th>cylinders</th>\n",
              "      <th>...</th>\n",
              "      <th>size</th>\n",
              "      <th>type</th>\n",
              "      <th>paint_color</th>\n",
              "      <th>image_url</th>\n",
              "      <th>description</th>\n",
              "      <th>county</th>\n",
              "      <th>state</th>\n",
              "      <th>lat</th>\n",
              "      <th>long</th>\n",
              "      <th>posting_date</th>\n",
              "    </tr>\n",
              "  </thead>\n",
              "  <tbody>\n",
              "    <tr>\n",
              "      <th>426875</th>\n",
              "      <td>7301591192</td>\n",
              "      <td>https://wyoming.craigslist.org/ctd/d/atlanta-2...</td>\n",
              "      <td>wyoming</td>\n",
              "      <td>https://wyoming.craigslist.org</td>\n",
              "      <td>23590</td>\n",
              "      <td>2019.0</td>\n",
              "      <td>nissan</td>\n",
              "      <td>maxima s sedan 4d</td>\n",
              "      <td>good</td>\n",
              "      <td>6 cylinders</td>\n",
              "      <td>...</td>\n",
              "      <td>NaN</td>\n",
              "      <td>sedan</td>\n",
              "      <td>NaN</td>\n",
              "      <td>https://images.craigslist.org/00o0o_iiraFnHg8q...</td>\n",
              "      <td>Carvana is the safer way to buy a car During t...</td>\n",
              "      <td>NaN</td>\n",
              "      <td>wy</td>\n",
              "      <td>33.786500</td>\n",
              "      <td>-84.445400</td>\n",
              "      <td>2021-04-04T03:21:31-0600</td>\n",
              "    </tr>\n",
              "    <tr>\n",
              "      <th>426876</th>\n",
              "      <td>7301591187</td>\n",
              "      <td>https://wyoming.craigslist.org/ctd/d/atlanta-2...</td>\n",
              "      <td>wyoming</td>\n",
              "      <td>https://wyoming.craigslist.org</td>\n",
              "      <td>30590</td>\n",
              "      <td>2020.0</td>\n",
              "      <td>volvo</td>\n",
              "      <td>s60 t5 momentum sedan 4d</td>\n",
              "      <td>good</td>\n",
              "      <td>NaN</td>\n",
              "      <td>...</td>\n",
              "      <td>NaN</td>\n",
              "      <td>sedan</td>\n",
              "      <td>red</td>\n",
              "      <td>https://images.craigslist.org/00x0x_15sbgnxCIS...</td>\n",
              "      <td>Carvana is the safer way to buy a car During t...</td>\n",
              "      <td>NaN</td>\n",
              "      <td>wy</td>\n",
              "      <td>33.786500</td>\n",
              "      <td>-84.445400</td>\n",
              "      <td>2021-04-04T03:21:29-0600</td>\n",
              "    </tr>\n",
              "    <tr>\n",
              "      <th>426877</th>\n",
              "      <td>7301591147</td>\n",
              "      <td>https://wyoming.craigslist.org/ctd/d/atlanta-2...</td>\n",
              "      <td>wyoming</td>\n",
              "      <td>https://wyoming.craigslist.org</td>\n",
              "      <td>34990</td>\n",
              "      <td>2020.0</td>\n",
              "      <td>cadillac</td>\n",
              "      <td>xt4 sport suv 4d</td>\n",
              "      <td>good</td>\n",
              "      <td>NaN</td>\n",
              "      <td>...</td>\n",
              "      <td>NaN</td>\n",
              "      <td>hatchback</td>\n",
              "      <td>white</td>\n",
              "      <td>https://images.craigslist.org/00L0L_farM7bxnxR...</td>\n",
              "      <td>Carvana is the safer way to buy a car During t...</td>\n",
              "      <td>NaN</td>\n",
              "      <td>wy</td>\n",
              "      <td>33.779214</td>\n",
              "      <td>-84.411811</td>\n",
              "      <td>2021-04-04T03:21:17-0600</td>\n",
              "    </tr>\n",
              "    <tr>\n",
              "      <th>426878</th>\n",
              "      <td>7301591140</td>\n",
              "      <td>https://wyoming.craigslist.org/ctd/d/atlanta-2...</td>\n",
              "      <td>wyoming</td>\n",
              "      <td>https://wyoming.craigslist.org</td>\n",
              "      <td>28990</td>\n",
              "      <td>2018.0</td>\n",
              "      <td>lexus</td>\n",
              "      <td>es 350 sedan 4d</td>\n",
              "      <td>good</td>\n",
              "      <td>6 cylinders</td>\n",
              "      <td>...</td>\n",
              "      <td>NaN</td>\n",
              "      <td>sedan</td>\n",
              "      <td>silver</td>\n",
              "      <td>https://images.craigslist.org/00z0z_bKnIVGLkDT...</td>\n",
              "      <td>Carvana is the safer way to buy a car During t...</td>\n",
              "      <td>NaN</td>\n",
              "      <td>wy</td>\n",
              "      <td>33.786500</td>\n",
              "      <td>-84.445400</td>\n",
              "      <td>2021-04-04T03:21:11-0600</td>\n",
              "    </tr>\n",
              "    <tr>\n",
              "      <th>426879</th>\n",
              "      <td>7301591129</td>\n",
              "      <td>https://wyoming.craigslist.org/ctd/d/atlanta-2...</td>\n",
              "      <td>wyoming</td>\n",
              "      <td>https://wyoming.craigslist.org</td>\n",
              "      <td>30590</td>\n",
              "      <td>2019.0</td>\n",
              "      <td>bmw</td>\n",
              "      <td>4 series 430i gran coupe</td>\n",
              "      <td>good</td>\n",
              "      <td>NaN</td>\n",
              "      <td>...</td>\n",
              "      <td>NaN</td>\n",
              "      <td>coupe</td>\n",
              "      <td>NaN</td>\n",
              "      <td>https://images.craigslist.org/00Y0Y_lEUocjyRxa...</td>\n",
              "      <td>Carvana is the safer way to buy a car During t...</td>\n",
              "      <td>NaN</td>\n",
              "      <td>wy</td>\n",
              "      <td>33.779214</td>\n",
              "      <td>-84.411811</td>\n",
              "      <td>2021-04-04T03:21:07-0600</td>\n",
              "    </tr>\n",
              "  </tbody>\n",
              "</table>\n",
              "<p>5 rows × 26 columns</p>\n",
              "</div>"
            ],
            "text/plain": [
              "                id                                                url  \\\n",
              "426875  7301591192  https://wyoming.craigslist.org/ctd/d/atlanta-2...   \n",
              "426876  7301591187  https://wyoming.craigslist.org/ctd/d/atlanta-2...   \n",
              "426877  7301591147  https://wyoming.craigslist.org/ctd/d/atlanta-2...   \n",
              "426878  7301591140  https://wyoming.craigslist.org/ctd/d/atlanta-2...   \n",
              "426879  7301591129  https://wyoming.craigslist.org/ctd/d/atlanta-2...   \n",
              "\n",
              "         region                      region_url  price    year manufacturer  \\\n",
              "426875  wyoming  https://wyoming.craigslist.org  23590  2019.0       nissan   \n",
              "426876  wyoming  https://wyoming.craigslist.org  30590  2020.0        volvo   \n",
              "426877  wyoming  https://wyoming.craigslist.org  34990  2020.0     cadillac   \n",
              "426878  wyoming  https://wyoming.craigslist.org  28990  2018.0        lexus   \n",
              "426879  wyoming  https://wyoming.craigslist.org  30590  2019.0          bmw   \n",
              "\n",
              "                           model condition    cylinders  ... size       type  \\\n",
              "426875         maxima s sedan 4d      good  6 cylinders  ...  NaN      sedan   \n",
              "426876  s60 t5 momentum sedan 4d      good          NaN  ...  NaN      sedan   \n",
              "426877          xt4 sport suv 4d      good          NaN  ...  NaN  hatchback   \n",
              "426878           es 350 sedan 4d      good  6 cylinders  ...  NaN      sedan   \n",
              "426879  4 series 430i gran coupe      good          NaN  ...  NaN      coupe   \n",
              "\n",
              "       paint_color                                          image_url  \\\n",
              "426875         NaN  https://images.craigslist.org/00o0o_iiraFnHg8q...   \n",
              "426876         red  https://images.craigslist.org/00x0x_15sbgnxCIS...   \n",
              "426877       white  https://images.craigslist.org/00L0L_farM7bxnxR...   \n",
              "426878      silver  https://images.craigslist.org/00z0z_bKnIVGLkDT...   \n",
              "426879         NaN  https://images.craigslist.org/00Y0Y_lEUocjyRxa...   \n",
              "\n",
              "                                              description county state  \\\n",
              "426875  Carvana is the safer way to buy a car During t...    NaN    wy   \n",
              "426876  Carvana is the safer way to buy a car During t...    NaN    wy   \n",
              "426877  Carvana is the safer way to buy a car During t...    NaN    wy   \n",
              "426878  Carvana is the safer way to buy a car During t...    NaN    wy   \n",
              "426879  Carvana is the safer way to buy a car During t...    NaN    wy   \n",
              "\n",
              "              lat       long              posting_date  \n",
              "426875  33.786500 -84.445400  2021-04-04T03:21:31-0600  \n",
              "426876  33.786500 -84.445400  2021-04-04T03:21:29-0600  \n",
              "426877  33.779214 -84.411811  2021-04-04T03:21:17-0600  \n",
              "426878  33.786500 -84.445400  2021-04-04T03:21:11-0600  \n",
              "426879  33.779214 -84.411811  2021-04-04T03:21:07-0600  \n",
              "\n",
              "[5 rows x 26 columns]"
            ]
          },
          "execution_count": 40,
          "metadata": {},
          "output_type": "execute_result"
        }
      ],
      "source": [
        "cars_df1.tail(5)"
      ]
    },
    {
      "cell_type": "code",
      "execution_count": null,
      "metadata": {
        "id": "KLsmbh3EdyLv",
        "outputId": "2e99f7d6-c34d-4167-8ec8-aa9ce0d62df1"
      },
      "outputs": [
        {
          "name": "stdout",
          "output_type": "stream",
          "text": [
            "<class 'pandas.core.frame.DataFrame'>\n",
            "RangeIndex: 426880 entries, 0 to 426879\n",
            "Data columns (total 26 columns):\n",
            " #   Column        Non-Null Count   Dtype  \n",
            "---  ------        --------------   -----  \n",
            " 0   id            426880 non-null  int64  \n",
            " 1   url           426880 non-null  object \n",
            " 2   region        426880 non-null  object \n",
            " 3   region_url    426880 non-null  object \n",
            " 4   price         426880 non-null  int64  \n",
            " 5   year          425675 non-null  float64\n",
            " 6   manufacturer  409234 non-null  object \n",
            " 7   model         421603 non-null  object \n",
            " 8   condition     252776 non-null  object \n",
            " 9   cylinders     249202 non-null  object \n",
            " 10  fuel          423867 non-null  object \n",
            " 11  odometer      422480 non-null  float64\n",
            " 12  title_status  418638 non-null  object \n",
            " 13  transmission  424324 non-null  object \n",
            " 14  VIN           265838 non-null  object \n",
            " 15  drive         296313 non-null  object \n",
            " 16  size          120519 non-null  object \n",
            " 17  type          334022 non-null  object \n",
            " 18  paint_color   296677 non-null  object \n",
            " 19  image_url     426812 non-null  object \n",
            " 20  description   426810 non-null  object \n",
            " 21  county        0 non-null       float64\n",
            " 22  state         426880 non-null  object \n",
            " 23  lat           420331 non-null  float64\n",
            " 24  long          420331 non-null  float64\n",
            " 25  posting_date  426812 non-null  object \n",
            "dtypes: float64(5), int64(2), object(19)\n",
            "memory usage: 84.7+ MB\n"
          ]
        }
      ],
      "source": [
        "cars_df1.info()"
      ]
    },
    {
      "cell_type": "code",
      "execution_count": null,
      "metadata": {
        "id": "cOF4RzeGdyLw",
        "outputId": "7956669f-f588-49c4-a5e8-c7e74b995c30"
      },
      "outputs": [
        {
          "name": "stdout",
          "output_type": "stream",
          "text": [
            "id                   0\n",
            "url                  0\n",
            "region               0\n",
            "region_url           0\n",
            "price                0\n",
            "year              1205\n",
            "manufacturer     17646\n",
            "model             5277\n",
            "condition       174104\n",
            "cylinders       177678\n",
            "fuel              3013\n",
            "odometer          4400\n",
            "title_status      8242\n",
            "transmission      2556\n",
            "VIN             161042\n",
            "drive           130567\n",
            "size            306361\n",
            "type             92858\n",
            "paint_color     130203\n",
            "image_url           68\n",
            "description         70\n",
            "county          426880\n",
            "state                0\n",
            "lat               6549\n",
            "long              6549\n",
            "posting_date        68\n",
            "dtype: int64\n"
          ]
        }
      ],
      "source": [
        "print(cars_df1.isnull().sum())"
      ]
    },
    {
      "cell_type": "code",
      "execution_count": null,
      "metadata": {
        "id": "MIIK_XZpdyLw",
        "outputId": "ae3ac0ab-4821-4986-e735-e4f4ebb53477"
      },
      "outputs": [
        {
          "data": {
            "text/plain": [
              "Index(['id', 'url', 'region', 'region_url', 'price', 'year', 'manufacturer',\n",
              "       'model', 'condition', 'cylinders', 'fuel', 'odometer', 'title_status',\n",
              "       'transmission', 'VIN', 'drive', 'size', 'type', 'paint_color',\n",
              "       'image_url', 'description', 'county', 'state', 'lat', 'long',\n",
              "       'posting_date'],\n",
              "      dtype='object')"
            ]
          },
          "execution_count": 43,
          "metadata": {},
          "output_type": "execute_result"
        }
      ],
      "source": [
        "cars_df1.columns"
      ]
    },
    {
      "cell_type": "markdown",
      "metadata": {
        "id": "boQ0AkKndyLw"
      },
      "source": [
        "# VISUALIZATION AND DATA PROCESSING"
      ]
    },
    {
      "cell_type": "code",
      "execution_count": null,
      "metadata": {
        "id": "pmgxGnD4dyLw",
        "outputId": "1daff997-7dcd-454a-e294-b6c3680cb569"
      },
      "outputs": [
        {
          "data": {
            "image/png": "[encoded data removed]",
            "text/plain": [
              "<Figure size 1000x500 with 1 Axes>"
            ]
          },
          "metadata": {},
          "output_type": "display_data"
        }
      ],
      "source": [
        "#Line Plot between avg. price and model year\n",
        "year_price = cars_df1.groupby('year')['price'].mean().reset_index()\n",
        "plt.figure(figsize=(10,5))\n",
        "sns.lineplot(x='year', y='price', data=year_price, marker='o', color='black')\n",
        "plt.title('AVERAGE PRICE BY MODEL YEAR')\n",
        "plt.xlabel('Model Year')\n",
        "plt.ylabel('Average Price ($)')\n",
        "plt.grid(True)\n",
        "plt.show()"
      ]
    },
    {
      "cell_type": "code",
      "execution_count": null,
      "metadata": {
        "id": "kA3qGVQqdyLw",
        "outputId": "fe4701de-7080-435b-f4be-d3164a7e0091"
      },
      "outputs": [
        {
          "data": {
            "image/png": "[encoded data removed]",
            "text/plain": [
              "<Figure size 1000x500 with 1 Axes>"
            ]
          },
          "metadata": {},
          "output_type": "display_data"
        }
      ],
      "source": [
        "#box plot between Price and Brands\n",
        "top_brands = cars_df1['manufacturer'].value_counts().nlargest(10).index\n",
        "df_top_brands = cars_df1[cars_df1['manufacturer'].isin(top_brands)]\n",
        "\n",
        "plt.figure(figsize=(10,5))\n",
        "sns.boxplot(x='manufacturer', y='price', data=df_top_brands)\n",
        "plt.title('Price Breakdown for the 10 Most Popular Brands')\n",
        "plt.xlabel('Brands')\n",
        "plt.ylabel('Price ($)')\n",
        "plt.xticks(rotation=45)\n",
        "plt.ylim(0, 60000)\n",
        "plt.show()"
      ]
    },
    {
      "cell_type": "code",
      "execution_count": null,
      "metadata": {
        "id": "9KeQzZ5YdyLw",
        "outputId": "adba55fc-e158-490b-a5b8-ad172d527349"
      },
      "outputs": [
        {
          "data": {
            "image/png": "[encoded data removed]",
            "text/plain": [
              "<Figure size 1000x500 with 1 Axes>"
            ]
          },
          "metadata": {},
          "output_type": "display_data"
        }
      ],
      "source": [
        "#Box Plot between Gear type and Price\n",
        "plt.figure(figsize=(10,5))\n",
        "sns.boxplot(x='transmission', y='price', data=cars_df1)\n",
        "plt.title('Vehicle Price Distribution According to Gear Type')\n",
        "plt.xlabel('Gear Type')\n",
        "plt.ylabel('Price ($)')\n",
        "plt.ylim(0, 60000)\n",
        "plt.show()"
      ]
    },
    {
      "cell_type": "code",
      "execution_count": null,
      "metadata": {
        "id": "6cYBrvSidyLx",
        "outputId": "708a83aa-6f86-46ef-ef92-fe4dc120ec89"
      },
      "outputs": [
        {
          "data": {
            "image/png": "[encoded data removed]",
            "text/plain": [
              "<Figure size 1000x500 with 1 Axes>"
            ]
          },
          "metadata": {},
          "output_type": "display_data"
        }
      ],
      "source": [
        "#checking the price\n",
        "plt.figure(figsize=(10, 5))\n",
        "sns.histplot(cars_df1['price'], bins=50, kde=True)\n",
        "plt.title('Price Distribution')\n",
        "plt.xlabel('Price')\n",
        "plt.ylabel('Count')\n",
        "plt.show()"
      ]
    },
    {
      "cell_type": "code",
      "execution_count": null,
      "metadata": {
        "id": "2PlEeOBBdyLx",
        "outputId": "98d56954-da89-4b14-e18a-de70dd0e69ba"
      },
      "outputs": [
        {
          "data": {
            "image/png": "[encoded data removed]",
            "text/plain": [
              "<Figure size 1000x500 with 1 Axes>"
            ]
          },
          "metadata": {},
          "output_type": "display_data"
        }
      ],
      "source": [
        "#Transforming the price into log transformation with respect to frequency\n",
        "df_log = cars_df1[cars_df1['price'] > 0].copy()\n",
        "df_log['log_price'] = np.log(df_log['price'])\n",
        "\n",
        "plt.figure(figsize=(10,5))\n",
        "sns.histplot(df_log['log_price'], bins=25, kde=True, color='Red')\n",
        "plt.title('Vehicle Price Distribution')\n",
        "plt.xlabel('log(Price)')\n",
        "plt.ylabel('Frequency')\n",
        "plt.ylim(0, 160000)\n",
        "plt.show()"
      ]
    },
    {
      "cell_type": "code",
      "execution_count": null,
      "metadata": {
        "id": "OeECm3yHdyLx",
        "outputId": "c288d206-1e3b-4582-b349-f59b0c82f017"
      },
      "outputs": [
        {
          "name": "stdout",
          "output_type": "stream",
          "text": [
            "Min odometer: 0.0\n",
            "Max odometer: 10000000.0\n"
          ]
        },
        {
          "data": {
            "image/png": "[encoded data removed]",
            "text/plain": [
              "<Figure size 1000x500 with 1 Axes>"
            ]
          },
          "metadata": {},
          "output_type": "display_data"
        }
      ],
      "source": [
        "#check for outliers in Odometer\n",
        "print(\"Min odometer:\", cars_df1['odometer'].min())\n",
        "print(\"Max odometer:\", cars_df1['odometer'].max())\n",
        "\n",
        "plt.figure(figsize=(10, 5))\n",
        "sns.boxplot(x=cars_df1['odometer'])\n",
        "plt.title('Boxplot of Odometer Readings')\n",
        "plt.xlabel('Odometer (miles)')\n",
        "plt.show()"
      ]
    },
    {
      "cell_type": "code",
      "execution_count": null,
      "metadata": {
        "id": "oYRglXeVdyLx",
        "outputId": "8eeb6314-c1b0-42c2-bd16-90592faffc12"
      },
      "outputs": [
        {
          "data": {
            "image/png": "[encoded data removed]",
            "text/plain": [
              "<Figure size 1000x500 with 1 Axes>"
            ]
          },
          "metadata": {},
          "output_type": "display_data"
        }
      ],
      "source": [
        "#check for outliers (year)\n",
        "plt.figure(figsize=(10, 5))\n",
        "sns.boxplot(x=cars_df1['year'])\n",
        "plt.title('Boxplot of Vehicle Year')\n",
        "plt.xlabel('Year')\n",
        "plt.show()"
      ]
    },
    {
      "cell_type": "code",
      "execution_count": null,
      "metadata": {
        "id": "-cDEf05VdyLx"
      },
      "outputs": [],
      "source": [
        "# createing new column 'car_age' for better use in prediction\n",
        "min_year = cars_df1['year'].min()\n",
        "max_year = cars_df1['year'].max()\n",
        "\n",
        "cars_df1 = cars_df1[cars_df1['year'] > 2008].copy()\n",
        "cars_df1['year'] = 2025 - cars_df1['year'].astype(int)\n",
        "cars_df1.rename(columns={'year': 'car_age'}, inplace=True)\n"
      ]
    },
    {
      "cell_type": "code",
      "execution_count": null,
      "metadata": {
        "id": "j40ZKZiWdyLy",
        "outputId": "5d594d23-d7ae-4cbd-8c1c-b42906869b93"
      },
      "outputs": [
        {
          "name": "stdout",
          "output_type": "stream",
          "text": [
            "<class 'pandas.core.frame.DataFrame'>\n",
            "Index: 315293 entries, 27 to 426879\n",
            "Data columns (total 10 columns):\n",
            " #   Column        Non-Null Count   Dtype  \n",
            "---  ------        --------------   -----  \n",
            " 0   price         315293 non-null  int64  \n",
            " 1   car_age       315293 non-null  int64  \n",
            " 2   manufacturer  306636 non-null  object \n",
            " 3   odometer      311900 non-null  float64\n",
            " 4   fuel          312951 non-null  object \n",
            " 5   transmission  313331 non-null  object \n",
            " 6   title_status  308767 non-null  object \n",
            " 7   type          256535 non-null  object \n",
            " 8   cylinders     172957 non-null  object \n",
            " 9   drive         218848 non-null  object \n",
            "dtypes: float64(1), int64(2), object(7)\n",
            "memory usage: 26.5+ MB\n"
          ]
        }
      ],
      "source": [
        "selected_columns = [\n",
        "    'price',\n",
        "    'car_age',\n",
        "    'manufacturer',\n",
        "    'odometer',\n",
        "    'fuel',\n",
        "    'transmission',\n",
        "    'title_status',\n",
        "    'type',\n",
        "    'cylinders',\n",
        "    'drive']\n",
        "\n",
        "cars_df2 = cars_df1[selected_columns].copy() #New dataset with the selected columns.\n",
        "cars_df2.info()"
      ]
    },
    {
      "cell_type": "code",
      "execution_count": null,
      "metadata": {
        "id": "U_-RvtEvdyLy",
        "outputId": "8536f820-903d-4c5d-9cdb-a71497752409"
      },
      "outputs": [
        {
          "name": "stdout",
          "output_type": "stream",
          "text": [
            "\n",
            "Missing Values Information:\n",
            "              Missing Counts   Rate (%)\n",
            "cylinders             142336  45.144041\n",
            "drive                  96445  30.589008\n",
            "type                   58758  18.635999\n",
            "manufacturer            8657   2.745700\n",
            "title_status            6526   2.069821\n",
            "odometer                3393   1.076142\n",
            "fuel                    2342   0.742801\n",
            "transmission            1962   0.622278\n"
          ]
        }
      ],
      "source": [
        "df_c1=cars_df2.copy()\n",
        "missing_counts = df_c1.isnull().sum() #calculate the number of missing value\n",
        "missing_ratio = (df_c1.isnull().sum() / len(df_c1)) * 100 #calculate the percentage\n",
        "\n",
        "missing_df_c1 = pd.DataFrame({'Missing Counts': missing_counts, 'Rate (%)': missing_ratio})\n",
        "missing_df_c1 = missing_df_c1[missing_df_c1['Missing Counts'] > 0].sort_values(by='Rate (%)', ascending=False)\n",
        "\n",
        "print(\"\\nMissing Values Information:\")\n",
        "print(missing_df_c1)"
      ]
    },
    {
      "cell_type": "code",
      "execution_count": null,
      "metadata": {
        "id": "oNfX5xO5dyLy",
        "outputId": "232349d3-1150-46e1-f625-911272c111af"
      },
      "outputs": [
        {
          "name": "stdout",
          "output_type": "stream",
          "text": [
            "           car_age  odometer     price\n",
            "car_age   1.000000  0.273302 -0.005532\n",
            "odometer  0.273302  1.000000 -0.001826\n",
            "price    -0.005532 -0.001826  1.000000\n"
          ]
        }
      ],
      "source": [
        "# numerical columns\n",
        "corr_df = cars_df2[['car_age', 'odometer', 'price']]\n",
        "\n",
        "# Compute correlation matrix\n",
        "correlation = corr_df.corr()\n",
        "print(correlation)"
      ]
    },
    {
      "cell_type": "code",
      "execution_count": null,
      "metadata": {
        "id": "uRQ15Gs4dyLy",
        "outputId": "1c2c6225-e19a-4440-bf44-4f9842140a46"
      },
      "outputs": [
        {
          "name": "stdout",
          "output_type": "stream",
          "text": [
            "\n",
            "Missing Values Information after all cleaning:\n",
            "Empty DataFrame\n",
            "Columns: [Missing Counts, Rate (%)]\n",
            "Index: []\n",
            "\n",
            "Columns to be One-Hot Encoded: ['manufacturer', 'fuel', 'transmission', 'title_status', 'type', 'drive']\n",
            "\n",
            "--- Final Encoded DataFrame Information ---\n",
            "Shape of the encoded DataFrame: (112863, 53)\n",
            "First 5 rows of the encoded DataFrame:\n",
            "     price  car_age  odometer  cylinders  log_price  manufacturer_audi  \\\n",
            "71   26990       11   63129.0          6  10.203222              False   \n",
            "73   15000        8   90000.0          8   9.615805              False   \n",
            "131  27990        8   19492.0          6  10.239603              False   \n",
            "154  24590        7   16081.0          4  10.110095              False   \n",
            "157  25590        5    1113.0          4  10.149957              False   \n",
            "\n",
            "     manufacturer_bmw  manufacturer_buick  manufacturer_cadillac  \\\n",
            "71              False               False                  False   \n",
            "73              False               False                  False   \n",
            "131             False               False                  False   \n",
            "154             False               False                  False   \n",
            "157             False                True                  False   \n",
            "\n",
            "     manufacturer_chevrolet  manufacturer_chrysler  manufacturer_dodge  \\\n",
            "71                     True                  False               False   \n",
            "73                    False                  False                True   \n",
            "131                   False                  False               False   \n",
            "154                   False                  False               False   \n",
            "157                   False                  False               False   \n",
            "\n",
            "     manufacturer_fiat  manufacturer_ford  manufacturer_gmc  \\\n",
            "71               False              False             False   \n",
            "73               False              False             False   \n",
            "131              False              False             False   \n",
            "154              False              False             False   \n",
            "157              False              False             False   \n",
            "\n",
            "     manufacturer_honda  manufacturer_hyundai  manufacturer_infiniti  \\\n",
            "71                False                 False                  False   \n",
            "73                False                 False                  False   \n",
            "131               False                 False                  False   \n",
            "154               False                 False                  False   \n",
            "157               False                 False                  False   \n",
            "\n",
            "     manufacturer_jaguar  manufacturer_jeep  manufacturer_kia  \\\n",
            "71                 False              False             False   \n",
            "73                 False              False             False   \n",
            "131                False              False             False   \n",
            "154                False              False             False   \n",
            "157                False              False             False   \n",
            "\n",
            "     manufacturer_lexus  manufacturer_lincoln  manufacturer_mazda  \\\n",
            "71                False                 False               False   \n",
            "73                False                 False               False   \n",
            "131               False                  True               False   \n",
            "154               False                  True               False   \n",
            "157               False                 False               False   \n",
            "\n",
            "     manufacturer_mercedes-benz  manufacturer_mercury  manufacturer_mini  \\\n",
            "71                        False                 False              False   \n",
            "73                        False                 False              False   \n",
            "131                       False                 False              False   \n",
            "154                       False                 False              False   \n",
            "157                       False                 False              False   \n",
            "\n",
            "     manufacturer_mitsubishi  manufacturer_nissan  manufacturer_pontiac  \\\n",
            "71                     False                False                 False   \n",
            "73                     False                False                 False   \n",
            "131                    False                False                 False   \n",
            "154                    False                False                 False   \n",
            "157                    False                False                 False   \n",
            "\n",
            "     manufacturer_porsche  manufacturer_ram  manufacturer_rover  \\\n",
            "71                  False             False               False   \n",
            "73                  False             False               False   \n",
            "131                 False             False               False   \n",
            "154                 False             False               False   \n",
            "157                 False             False               False   \n",
            "\n",
            "     manufacturer_subaru  manufacturer_tesla  manufacturer_toyota  \\\n",
            "71                 False               False                False   \n",
            "73                 False               False                False   \n",
            "131                False               False                False   \n",
            "154                False               False                False   \n",
            "157                False               False                False   \n",
            "\n",
            "     manufacturer_volkswagen  manufacturer_volvo  fuel_electric  fuel_gas  \\\n",
            "71                     False               False          False      True   \n",
            "73                     False               False          False      True   \n",
            "131                    False               False          False      True   \n",
            "154                    False               False          False      True   \n",
            "157                    False               False          False      True   \n",
            "\n",
            "     fuel_hybrid  transmission_manual  title_status_missing  \\\n",
            "71         False                False                 False   \n",
            "73         False                False                 False   \n",
            "131        False                False                 False   \n",
            "154        False                False                 False   \n",
            "157        False                False                 False   \n",
            "\n",
            "     title_status_parts only  title_status_rebuilt  type_convertible  \\\n",
            "71                     False                 False             False   \n",
            "73                     False                  True             False   \n",
            "131                    False                 False             False   \n",
            "154                    False                 False             False   \n",
            "157                    False                 False             False   \n",
            "\n",
            "     type_coupe  type_hatchback  type_pickup  type_sedan  type_wagon  \\\n",
            "71        False           False         True       False       False   \n",
            "73        False           False        False        True       False   \n",
            "131       False           False        False        True       False   \n",
            "154       False           False        False        True       False   \n",
            "157       False           False        False       False       False   \n",
            "\n",
            "     drive_fwd  drive_rwd  \n",
            "71       False      False  \n",
            "73       False       True  \n",
            "131      False      False  \n",
            "154       True      False  \n",
            "157       True      False  \n",
            "\n",
            "Data types of the encoded DataFrame:\n",
            "<class 'pandas.core.frame.DataFrame'>\n",
            "Index: 112863 entries, 71 to 426874\n",
            "Data columns (total 53 columns):\n",
            " #   Column                      Non-Null Count   Dtype  \n",
            "---  ------                      --------------   -----  \n",
            " 0   price                       112863 non-null  int64  \n",
            " 1   car_age                     112863 non-null  int64  \n",
            " 2   odometer                    112863 non-null  float64\n",
            " 3   cylinders                   112863 non-null  int64  \n",
            " 4   log_price                   112863 non-null  float64\n",
            " 5   manufacturer_audi           112863 non-null  bool   \n",
            " 6   manufacturer_bmw            112863 non-null  bool   \n",
            " 7   manufacturer_buick          112863 non-null  bool   \n",
            " 8   manufacturer_cadillac       112863 non-null  bool   \n",
            " 9   manufacturer_chevrolet      112863 non-null  bool   \n",
            " 10  manufacturer_chrysler       112863 non-null  bool   \n",
            " 11  manufacturer_dodge          112863 non-null  bool   \n",
            " 12  manufacturer_fiat           112863 non-null  bool   \n",
            " 13  manufacturer_ford           112863 non-null  bool   \n",
            " 14  manufacturer_gmc            112863 non-null  bool   \n",
            " 15  manufacturer_honda          112863 non-null  bool   \n",
            " 16  manufacturer_hyundai        112863 non-null  bool   \n",
            " 17  manufacturer_infiniti       112863 non-null  bool   \n",
            " 18  manufacturer_jaguar         112863 non-null  bool   \n",
            " 19  manufacturer_jeep           112863 non-null  bool   \n",
            " 20  manufacturer_kia            112863 non-null  bool   \n",
            " 21  manufacturer_lexus          112863 non-null  bool   \n",
            " 22  manufacturer_lincoln        112863 non-null  bool   \n",
            " 23  manufacturer_mazda          112863 non-null  bool   \n",
            " 24  manufacturer_mercedes-benz  112863 non-null  bool   \n",
            " 25  manufacturer_mercury        112863 non-null  bool   \n",
            " 26  manufacturer_mini           112863 non-null  bool   \n",
            " 27  manufacturer_mitsubishi     112863 non-null  bool   \n",
            " 28  manufacturer_nissan         112863 non-null  bool   \n",
            " 29  manufacturer_pontiac        112863 non-null  bool   \n",
            " 30  manufacturer_porsche        112863 non-null  bool   \n",
            " 31  manufacturer_ram            112863 non-null  bool   \n",
            " 32  manufacturer_rover          112863 non-null  bool   \n",
            " 33  manufacturer_subaru         112863 non-null  bool   \n",
            " 34  manufacturer_tesla          112863 non-null  bool   \n",
            " 35  manufacturer_toyota         112863 non-null  bool   \n",
            " 36  manufacturer_volkswagen     112863 non-null  bool   \n",
            " 37  manufacturer_volvo          112863 non-null  bool   \n",
            " 38  fuel_electric               112863 non-null  bool   \n",
            " 39  fuel_gas                    112863 non-null  bool   \n",
            " 40  fuel_hybrid                 112863 non-null  bool   \n",
            " 41  transmission_manual         112863 non-null  bool   \n",
            " 42  title_status_missing        112863 non-null  bool   \n",
            " 43  title_status_parts only     112863 non-null  bool   \n",
            " 44  title_status_rebuilt        112863 non-null  bool   \n",
            " 45  type_convertible            112863 non-null  bool   \n",
            " 46  type_coupe                  112863 non-null  bool   \n",
            " 47  type_hatchback              112863 non-null  bool   \n",
            " 48  type_pickup                 112863 non-null  bool   \n",
            " 49  type_sedan                  112863 non-null  bool   \n",
            " 50  type_wagon                  112863 non-null  bool   \n",
            " 51  drive_fwd                   112863 non-null  bool   \n",
            " 52  drive_rwd                   112863 non-null  bool   \n",
            "dtypes: bool(48), float64(2), int64(3)\n",
            "memory usage: 10.3 MB\n",
            "None\n"
          ]
        }
      ],
      "source": [
        "cars_df2 = cars_df2[cars_df2['type'].isin(['pickup', 'sedan', 'SUV', 'convertible', 'wagon', 'hatchback', 'coupe'])].copy()\n",
        "cars_df2 = cars_df2[cars_df2['transmission'].isin(['automatic', 'manual'])].copy()\n",
        "cars_df2 = cars_df2[cars_df2['title_status'].isin(['clean', 'rebuilt', 'missing', 'parts only'])].copy()\n",
        "\n",
        "# Handle 'cylinders' missing values and ensure it's numeric\n",
        "cars_df2['cylinders'] = cars_df2['cylinders'].astype(str).str.extract(r'(\\d+)').astype(float)\n",
        "if cars_df2['cylinders'].isnull().any():\n",
        "    mode_cylinders = cars_df2['cylinders'].mode()[0]\n",
        "    cars_df2['cylinders'] = cars_df2['cylinders'].fillna(mode_cylinders)\n",
        "cars_df2['cylinders'] = cars_df2['cylinders'].astype(int)\n",
        "\n",
        "cars_df2 = cars_df2[cars_df2['fuel'].isin(['diesel', 'hybrid', 'electric', 'gas'])].copy()\n",
        "cars_df2 = cars_df2[cars_df2['manufacturer'].notna()].copy()\n",
        "\n",
        "# Handle 'drive' missing values by filling with mode\n",
        "if cars_df2['drive'].isnull().any():\n",
        "    mode_drive = cars_df2['drive'].mode()[0]\n",
        "    cars_df2['drive'] = cars_df2['drive'].fillna(mode_drive)\n",
        "\n",
        "cars_df2 = cars_df2[(cars_df2['price'] > 2000) & (cars_df2['price'] <= 60000)].copy()\n",
        "\n",
        "# Ensure 'odometer' is numeric and handle NaNs if any, before filtering\n",
        "cars_df2['odometer'] = pd.to_numeric(cars_df2['odometer'], errors='coerce')\n",
        "cars_df2 = cars_df2.dropna(subset=['odometer']).copy()\n",
        "cars_df2 = cars_df2[(cars_df2['odometer'] > 1000) & (cars_df2['odometer'] <= 550000)].copy()\n",
        "\n",
        "cars_df2 = cars_df2[cars_df2['manufacturer'].map(cars_df2['manufacturer'].value_counts()) > 100].copy()\n",
        "\n",
        "\n",
        "# --- Final Check on Missing Values before Encoding ---\n",
        "print(\"\\nMissing Values Information after all cleaning:\")\n",
        "missing_counts_final = cars_df2.isnull().sum()\n",
        "missing_ratio_final = (cars_df2.isnull().sum() / len(cars_df2)) * 100\n",
        "missing_df_final = pd.DataFrame({'Missing Counts': missing_counts_final, 'Rate (%)': missing_ratio_final})\n",
        "missing_df_final = missing_df_final[missing_df_final['Missing Counts'] > 0].sort_values(by='Rate (%)', ascending=False)\n",
        "print(missing_df_final)\n",
        "\n",
        "# --- Creating log_price as the target variable\n",
        "# df_final will now include 'log_price' alongside 'price'\n",
        "df_final = cars_df2.copy()\n",
        "df_final['log_price'] = np.log(df_final['price']) # Re-introducing log_price here\n",
        "\n",
        "# --- Categorical to Numerical Transformation (One-Hot Encoding) ---\n",
        "# Identify categorical columns to encode\n",
        "# 'price' and 'log_price' are numerical and will not be in 'object' dtype, so they won't be encoded.\n",
        "categorical_cols_to_encode = [col for col in df_final.columns if df_final[col].dtype == 'object']\n",
        "\n",
        "print(f\"\\nColumns to be One-Hot Encoded: {categorical_cols_to_encode}\")\n",
        "\n",
        "# Perform One-Hot Encoding to change the categorical value into numerical format\n",
        "df_encoded = pd.get_dummies(df_final, columns=categorical_cols_to_encode, drop_first=True)\n",
        "\n",
        "# --- Final Dataframe Check ---\n",
        "print(\"\\n--- Final Encoded DataFrame Information ---\")\n",
        "print(\"Shape of the encoded DataFrame:\", df_encoded.shape)\n",
        "print(\"First 5 rows of the encoded DataFrame:\")\n",
        "pd.set_option('display.max_columns', None) # Show all columns\n",
        "print(df_encoded.head())\n",
        "pd.reset_option('display.max_columns') # Reset display option\n",
        "\n",
        "print(\"\\nData types of the encoded DataFrame:\")\n",
        "print(df_encoded.info())\n",
        "\n",
        "#Now df_encoded is ready with 'log_price' as the target"
      ]
    },
    {
      "cell_type": "code",
      "execution_count": null,
      "metadata": {
        "id": "Di-qytdGdyLy",
        "outputId": "01ce4ffb-757d-4f7c-ef8a-9d92e840448f"
      },
      "outputs": [
        {
          "name": "stdout",
          "output_type": "stream",
          "text": [
            "price                         0\n",
            "car_age                       0\n",
            "odometer                      0\n",
            "cylinders                     0\n",
            "log_price                     0\n",
            "manufacturer_audi             0\n",
            "manufacturer_bmw              0\n",
            "manufacturer_buick            0\n",
            "manufacturer_cadillac         0\n",
            "manufacturer_chevrolet        0\n",
            "manufacturer_chrysler         0\n",
            "manufacturer_dodge            0\n",
            "manufacturer_fiat             0\n",
            "manufacturer_ford             0\n",
            "manufacturer_gmc              0\n",
            "manufacturer_honda            0\n",
            "manufacturer_hyundai          0\n",
            "manufacturer_infiniti         0\n",
            "manufacturer_jaguar           0\n",
            "manufacturer_jeep             0\n",
            "manufacturer_kia              0\n",
            "manufacturer_lexus            0\n",
            "manufacturer_lincoln          0\n",
            "manufacturer_mazda            0\n",
            "manufacturer_mercedes-benz    0\n",
            "manufacturer_mercury          0\n",
            "manufacturer_mini             0\n",
            "manufacturer_mitsubishi       0\n",
            "manufacturer_nissan           0\n",
            "manufacturer_pontiac          0\n",
            "manufacturer_porsche          0\n",
            "manufacturer_ram              0\n",
            "manufacturer_rover            0\n",
            "manufacturer_subaru           0\n",
            "manufacturer_tesla            0\n",
            "manufacturer_toyota           0\n",
            "manufacturer_volkswagen       0\n",
            "manufacturer_volvo            0\n",
            "fuel_electric                 0\n",
            "fuel_gas                      0\n",
            "fuel_hybrid                   0\n",
            "transmission_manual           0\n",
            "title_status_missing          0\n",
            "title_status_parts only       0\n",
            "title_status_rebuilt          0\n",
            "type_convertible              0\n",
            "type_coupe                    0\n",
            "type_hatchback                0\n",
            "type_pickup                   0\n",
            "type_sedan                    0\n",
            "type_wagon                    0\n",
            "drive_fwd                     0\n",
            "drive_rwd                     0\n",
            "dtype: int64\n"
          ]
        }
      ],
      "source": [
        "print(df_encoded.isnull().sum()) #checking the nul values in final dataset"
      ]
    },
    {
      "cell_type": "code",
      "execution_count": null,
      "metadata": {
        "id": "RHoO1y8adyLy",
        "outputId": "8f414050-fb95-4b4c-eb21-123b984aa028"
      },
      "outputs": [
        {
          "name": "stdout",
          "output_type": "stream",
          "text": [
            "\n",
            "======================================================================\n",
            "  FEATURE CORRELATION HEATMAP (AFTER CLEANING & TRANSFORMATION)\n",
            "======================================================================\n",
            "\n"
          ]
        },
        {
          "data": {
            "image/png": "[encoded data removed]",
            "text/plain": [
              "<Figure size 1000x500 with 2 Axes>"
            ]
          },
          "metadata": {},
          "output_type": "display_data"
        }
      ],
      "source": [
        "print(\"\\n\" + \"=\"*70)\n",
        "print(\"  FEATURE CORRELATION HEATMAP (AFTER CLEANING & TRANSFORMATION)\")\n",
        "print(\"=\"*70 + \"\\n\")\n",
        "\n",
        "correlation_data_cleaned = df_encoded[['car_age', 'odometer', 'cylinders', 'log_price']].copy()\n",
        "corr_matrix_cleaned = correlation_data_cleaned.corr()\n",
        "plt.figure(figsize=(10, 5))\n",
        "\n",
        "# Creating the heatmap\n",
        "sns.heatmap(corr_matrix_cleaned, annot=True, cmap='coolwarm', fmt=\".2f\", linewidths=.5)\n",
        "\n",
        "plt.title('Correlation Heatmap (After Cleaning and Log Transformation)', fontsize=14)\n",
        "plt.xticks(rotation=45, ha='right')\n",
        "plt.yticks(rotation=0)\n",
        "plt.tight_layout()\n",
        "plt.show()"
      ]
    },
    {
      "cell_type": "markdown",
      "metadata": {
        "id": "P2wdcGCvdyLy"
      },
      "source": [
        "# SPLITTING THE DATASET INTO TRAINING AND TESTING"
      ]
    },
    {
      "cell_type": "code",
      "execution_count": null,
      "metadata": {
        "id": "BVnQVceQdyLz",
        "outputId": "38c5e105-39c5-4294-b2b8-ae34a739e36a"
      },
      "outputs": [
        {
          "name": "stdout",
          "output_type": "stream",
          "text": [
            "Features (X) shape: (112863, 51)\n",
            "Target (y) shape: (112863,)\n",
            "\n",
            "X_train shape: (90290, 51)\n",
            "X_test shape: (22573, 51)\n",
            "\n",
            "Numerical features scaled successfully.\n",
            "Data preparation complete. Proceed to model training cells.\n"
          ]
        }
      ],
      "source": [
        "# 1. Re-define X (features) and y (target) with log_price\n",
        "X = df_encoded.drop(columns=['price', 'log_price'])\n",
        "y = df_encoded['log_price'] # Target is log_price\n",
        "\n",
        "print(f\"Features (X) shape: {X.shape}\")\n",
        "print(f\"Target (y) shape: {y.shape}\")\n",
        "\n",
        "# 2. Split data into training and testing sets\n",
        "X_train, X_test, y_train, y_test = train_test_split(X, y, test_size=0.2, random_state=42)\n",
        "\n",
        "print(f\"\\nX_train shape: {X_train.shape}\")\n",
        "print(f\"X_test shape: {X_test.shape}\")\n",
        "\n",
        "# 3. Feature Scaling for numerical features\n",
        "numerical_cols = ['car_age', 'odometer', 'cylinders']\n",
        "scaler = StandardScaler()\n",
        "X_train[numerical_cols] = scaler.fit_transform(X_train[numerical_cols])\n",
        "X_test[numerical_cols] = scaler.transform(X_test[numerical_cols])\n",
        "\n",
        "print(\"\\nNumerical features scaled successfully.\")\n",
        "print(\"Data preparation complete. Proceed to model training cells.\")"
      ]
    },
    {
      "cell_type": "markdown",
      "metadata": {
        "id": "AmczxiAldyLz"
      },
      "source": [
        "# METHODS AND IMPLEMENTATIONS"
      ]
    },
    {
      "cell_type": "code",
      "execution_count": null,
      "metadata": {
        "id": "KcE3MohGdyLz",
        "outputId": "d1b55e8c-4fd8-46d7-ea6a-9989f66df78f"
      },
      "outputs": [
        {
          "name": "stdout",
          "output_type": "stream",
          "text": [
            "\n",
            "==================================================\n",
            "           LINEAR REGRESSION RESULTS\n",
            "==================================================\n",
            "\n",
            "--- Training Linear Regression Model ---\n",
            "Linear Regression training time: 0.28 seconds\n",
            "\n",
            "--- Linear Regression Evaluation (on log_price) ---\n",
            "R-squared (log_price): 0.7770\n",
            "Mean Absolute Error (log_price): 0.2160\n",
            "Root Mean Squared Error (log_price): 0.2913\n",
            "\n",
            "--- Linear Regression Evaluation (on original price scale) ---\n",
            "Mean Absolute Error (original price): $3936.27\n",
            "Root Mean Squared Error (original price): $5982.05\n",
            "\n",
            "Linear Regression Coefficients (Top 10 Positive & Top 10 Negative):\n",
            "--- Top 10 Positive Coefficients ---\n",
            "                       Feature  Coefficient\n",
            "32          manufacturer_tesla     0.732828\n",
            "46                 type_pickup     0.424132\n",
            "28        manufacturer_porsche     0.363109\n",
            "19          manufacturer_lexus     0.196569\n",
            "43            type_convertible     0.159150\n",
            "30          manufacturer_rover     0.153046\n",
            "2                    cylinders     0.094817\n",
            "22  manufacturer_mercedes-benz     0.086959\n",
            "39         transmission_manual     0.064001\n",
            "6        manufacturer_cadillac     0.055625\n",
            "\n",
            "--- Top 10 Negative Coefficients ---\n",
            "                    Feature  Coefficient\n",
            "26      manufacturer_nissan    -0.341372\n",
            "18         manufacturer_kia    -0.348360\n",
            "38              fuel_hybrid    -0.381853\n",
            "23     manufacturer_mercury    -0.418054\n",
            "37                 fuel_gas    -0.436718\n",
            "36            fuel_electric    -0.462248\n",
            "25  manufacturer_mitsubishi    -0.471079\n",
            "10        manufacturer_fiat    -0.623377\n",
            "41  title_status_parts only    -0.641092\n",
            "40     title_status_missing    -0.949848\n",
            "==================================================\n",
            "\n"
          ]
        }
      ],
      "source": [
        "y_test_original = np.exp(y_test) #Inverse transform the actual log-price of the test set back to their original dollar scale\n",
        "\n",
        "print(\"\\n\" + \"=\"*50)\n",
        "print(\"           LINEAR REGRESSION RESULTS\")\n",
        "print(\"=\"*50 + \"\\n\")\n",
        "\n",
        "print(\"--- Training Linear Regression Model ---\")\n",
        "lr_model = LinearRegression()\n",
        "start_time = time.time()\n",
        "lr_model.fit(X_train, y_train)\n",
        "end_time = time.time()\n",
        "print(f\"Linear Regression training time: {end_time - start_time:.2f} seconds\")\n",
        "\n",
        "# Predictions\n",
        "y_pred_lr_log = lr_model.predict(X_test)\n",
        "y_pred_lr_original = np.exp(y_pred_lr_log)\n",
        "\n",
        "print(\"\\n--- Linear Regression Evaluation (on log_price) ---\")\n",
        "r2_lr = r2_score(y_test, y_pred_lr_log)\n",
        "mae_lr_log = mean_absolute_error(y_test, y_pred_lr_log)\n",
        "rmse_lr_log = np.sqrt(mean_squared_error(y_test, y_pred_lr_log))\n",
        "print(f\"R-squared (log_price): {r2_lr:.4f}\")\n",
        "print(f\"Mean Absolute Error (log_price): {mae_lr_log:.4f}\")\n",
        "print(f\"Root Mean Squared Error (log_price): {rmse_lr_log:.4f}\")\n",
        "\n",
        "print(\"\\n--- Linear Regression Evaluation (on original price scale) ---\")\n",
        "mae_lr_original = mean_absolute_error(y_test_original, y_pred_lr_original)\n",
        "rmse_lr_original = np.sqrt(mean_squared_error(y_test_original, y_pred_lr_original))\n",
        "print(f\"Mean Absolute Error (original price): ${mae_lr_original:.2f}\")\n",
        "print(f\"Root Mean Squared Error (original price): ${rmse_lr_original:.2f}\")\n",
        "\n",
        "# Examine coefficients for interpretation (for Linear Regression)\n",
        "print(\"\\nLinear Regression Coefficients (Top 10 Positive & Top 10 Negative):\")\n",
        "coefficients_df = pd.DataFrame({'Feature': X.columns, 'Coefficient': lr_model.coef_})\n",
        "coefficients_df_sorted = coefficients_df.sort_values(by='Coefficient', ascending=False)\n",
        "print(\"--- Top 10 Positive Coefficients ---\")\n",
        "print(coefficients_df_sorted.head(10).to_string()) # .to_string() prevents truncation\n",
        "print(\"\\n--- Top 10 Negative Coefficients ---\")\n",
        "print(coefficients_df_sorted.tail(10).to_string()) # .to_string() prevents truncation\n",
        "\n",
        "print(\"=\"*50 + \"\\n\")"
      ]
    },
    {
      "cell_type": "code",
      "execution_count": null,
      "metadata": {
        "id": "OrLgWtiAdyL0",
        "outputId": "4ba102d2-6d39-4e9b-e3d9-49ee9af0026d"
      },
      "outputs": [
        {
          "name": "stdout",
          "output_type": "stream",
          "text": [
            "\n",
            "==================================================\n",
            "             RIDGECV REGRESSOR RESULTS\n",
            "==================================================\n",
            "\n",
            "--- Training RidgeCV Regressor ---\n",
            "RidgeCV training time: 8.89 seconds\n",
            "Best alpha found by RidgeCV: 0.100000\n",
            "\n",
            "--- RidgeCV Evaluation (on log_price) ---\n",
            "R-squared (log_price): 0.7770\n",
            "Mean Absolute Error (log_price): 0.2160\n",
            "Root Mean Squared Error (log_price): 0.2913\n",
            "\n",
            "--- RidgeCV Evaluation (on original price scale) ---\n",
            "Mean Absolute Error (original price): $3936.26\n",
            "Root Mean Squared Error (original price): $5982.01\n",
            "==================================================\n",
            "\n"
          ]
        }
      ],
      "source": [
        "y_test_original = np.exp(y_test)\n",
        "\n",
        "print(\"\\n\" + \"=\"*50)\n",
        "print(\"             RIDGECV REGRESSOR RESULTS\")\n",
        "print(\"=\"*50 + \"\\n\")\n",
        "\n",
        "print(\"--- Training RidgeCV Regressor ---\")\n",
        "# alphas: Array of alpha values for cross-validation\n",
        "ridge_model = RidgeCV(alphas=np.logspace(-6, 6, 13), cv=5) # Example range, adjust as needed\n",
        "start_time = time.time()\n",
        "ridge_model.fit(X_train, y_train)\n",
        "end_time = time.time()\n",
        "print(f\"RidgeCV training time: {end_time - start_time:.2f} seconds\")\n",
        "print(f\"Best alpha found by RidgeCV: {ridge_model.alpha_:.6f}\")\n",
        "\n",
        "# Predictions\n",
        "y_pred_ridge_log = ridge_model.predict(X_test)\n",
        "y_pred_ridge_original = np.exp(y_pred_ridge_log)\n",
        "\n",
        "print(\"\\n--- RidgeCV Evaluation (on log_price) ---\")\n",
        "r2_ridge = r2_score(y_test, y_pred_ridge_log)\n",
        "mae_ridge_log = mean_absolute_error(y_test, y_pred_ridge_log)\n",
        "rmse_ridge_log = np.sqrt(mean_squared_error(y_test, y_pred_ridge_log))\n",
        "print(f\"R-squared (log_price): {r2_ridge:.4f}\")\n",
        "print(f\"Mean Absolute Error (log_price): {mae_ridge_log:.4f}\")\n",
        "print(f\"Root Mean Squared Error (log_price): {rmse_ridge_log:.4f}\")\n",
        "\n",
        "print(\"\\n--- RidgeCV Evaluation (on original price scale) ---\")\n",
        "mae_ridge_original = mean_absolute_error(y_test_original, y_pred_ridge_original)\n",
        "rmse_ridge_original = np.sqrt(mean_squared_error(y_test_original, y_pred_ridge_original))\n",
        "print(f\"Mean Absolute Error (original price): ${mae_ridge_original:.2f}\")\n",
        "print(f\"Root Mean Squared Error (original price): ${rmse_ridge_original:.2f}\")\n",
        "print(\"=\"*50 + \"\\n\")"
      ]
    },
    {
      "cell_type": "code",
      "execution_count": null,
      "metadata": {
        "id": "ZVM78fM_dyL0",
        "outputId": "9902ee03-fe9c-4656-aaf0-5930847c0c19"
      },
      "outputs": [
        {
          "name": "stdout",
          "output_type": "stream",
          "text": [
            "\n",
            "==================================================\n",
            "             LASSOCV REGRESSOR RESULTS\n",
            "==================================================\n",
            "\n",
            "--- Training LassoCV Regressor ---\n",
            "LassoCV training time: 6.70 seconds\n",
            "Best alpha found by LassoCV: 0.000001\n",
            "\n",
            "--- LassoCV Evaluation (on log_price) ---\n",
            "R-squared (log_price): 0.7770\n",
            "Mean Absolute Error (log_price): 0.2160\n",
            "Root Mean Squared Error (log_price): 0.2913\n",
            "\n",
            "--- LassoCV Evaluation (on original price scale) ---\n",
            "Mean Absolute Error (original price): $3936.22\n",
            "Root Mean Squared Error (original price): $5981.95\n",
            "==================================================\n",
            "\n"
          ]
        }
      ],
      "source": [
        "y_test_original = np.exp(y_test)\n",
        "\n",
        "print(\"\\n\" + \"=\"*50)\n",
        "print(\"             LASSOCV REGRESSOR RESULTS\")\n",
        "print(\"=\"*50 + \"\\n\")\n",
        "\n",
        "print(\"--- Training LassoCV Regressor ---\")\n",
        "# alphas: Array of alpha values for cross-validation\n",
        "# max_iter: Increased for convergence on some datasets\n",
        "lasso_model = LassoCV(alphas=np.logspace(-6, 6, 13), cv=5, random_state=42, max_iter=10000) # Example range\n",
        "start_time = time.time()\n",
        "lasso_model.fit(X_train, y_train)\n",
        "end_time = time.time()\n",
        "print(f\"LassoCV training time: {end_time - start_time:.2f} seconds\")\n",
        "print(f\"Best alpha found by LassoCV: {lasso_model.alpha_:.6f}\")\n",
        "\n",
        "# Predictions\n",
        "y_pred_lasso_log = lasso_model.predict(X_test)\n",
        "y_pred_lasso_original = np.exp(y_pred_lasso_log)\n",
        "\n",
        "print(\"\\n--- LassoCV Evaluation (on log_price) ---\")\n",
        "r2_lasso = r2_score(y_test, y_pred_lasso_log)\n",
        "mae_lasso_log = mean_absolute_error(y_test, y_pred_lasso_log)\n",
        "rmse_lasso_log = np.sqrt(mean_squared_error(y_test, y_pred_lasso_log))\n",
        "print(f\"R-squared (log_price): {r2_lasso:.4f}\")\n",
        "print(f\"Mean Absolute Error (log_price): {mae_lasso_log:.4f}\")\n",
        "print(f\"Root Mean Squared Error (log_price): {rmse_lasso_log:.4f}\")\n",
        "\n",
        "print(\"\\n--- LassoCV Evaluation (on original price scale) ---\")\n",
        "mae_lasso_original = mean_absolute_error(y_test_original, y_pred_lasso_original)\n",
        "rmse_lasso_original = np.sqrt(mean_squared_error(y_test_original, y_pred_lasso_original))\n",
        "print(f\"Mean Absolute Error (original price): ${mae_lasso_original:.2f}\")\n",
        "print(f\"Root Mean Squared Error (original price): ${rmse_lasso_original:.2f}\")\n",
        "print(\"=\"*50 + \"\\n\")"
      ]
    },
    {
      "cell_type": "code",
      "execution_count": null,
      "metadata": {
        "id": "0Kz97IyXdyLz",
        "outputId": "b3e79c8f-c7e1-434a-8d14-7eb4fd1afede"
      },
      "outputs": [
        {
          "name": "stdout",
          "output_type": "stream",
          "text": [
            "\n",
            "==================================================\n",
            "         RANDOM FOREST REGRESSOR RESULTS\n",
            "==================================================\n",
            "\n",
            "--- Training Random Forest Regressor ---\n",
            "Random Forest training time: 7.08 seconds\n",
            "\n",
            "--- Random Forest Evaluation (on log_price) ---\n",
            "R-squared (log_price): 0.8824\n",
            "Mean Absolute Error (log_price): 0.1209\n",
            "Root Mean Squared Error (log_price): 0.2115\n",
            "\n",
            "--- Random Forest Evaluation (on original price scale) ---\n",
            "Mean Absolute Error (original price): $1891.24\n",
            "Root Mean Squared Error (original price): $3496.41\n",
            "==================================================\n",
            "\n"
          ]
        }
      ],
      "source": [
        "y_test_original = np.exp(y_test) #Inverse transform the actual log-price of the test set back to their original dollar scale\n",
        "print(\"\\n\" + \"=\"*50)\n",
        "print(\"         RANDOM FOREST REGRESSOR RESULTS\")\n",
        "print(\"=\"*50 + \"\\n\")\n",
        "\n",
        "print(\"--- Training Random Forest Regressor ---\")\n",
        "rf_model = RandomForestRegressor(n_estimators=100, random_state=42, n_jobs=-1)\n",
        "# n_estimators=100: Specifies the number of decision trees in the forest. More trees generally improve performance but increase computation time.\n",
        "# random_state=42: Ensures reproducibility of the results.\n",
        "# n_jobs=-1: Utilizes all available CPU cores for faster training.\n",
        "start_time = time.time()\n",
        "rf_model.fit(X_train, y_train)\n",
        "end_time = time.time()\n",
        "print(f\"Random Forest training time: {end_time - start_time:.2f} seconds\")\n",
        "\n",
        "# Predictions\n",
        "y_pred_rf_log = rf_model.predict(X_test)\n",
        "y_pred_rf_original = np.exp(y_pred_rf_log)\n",
        "\n",
        "print(\"\\n--- Random Forest Evaluation (on log_price) ---\")\n",
        "r2_rf = r2_score(y_test, y_pred_rf_log)\n",
        "mae_rf_log = mean_absolute_error(y_test, y_pred_rf_log)\n",
        "rmse_rf_log = np.sqrt(mean_squared_error(y_test, y_pred_rf_log))\n",
        "print(f\"R-squared (log_price): {r2_rf:.4f}\")\n",
        "print(f\"Mean Absolute Error (log_price): {mae_rf_log:.4f}\")\n",
        "print(f\"Root Mean Squared Error (log_price): {rmse_rf_log:.4f}\")\n",
        "\n",
        "print(\"\\n--- Random Forest Evaluation (on original price scale) ---\")\n",
        "mae_rf_original = mean_absolute_error(y_test_original, y_pred_rf_original)\n",
        "rmse_rf_original = np.sqrt(mean_squared_error(y_test_original, y_pred_rf_original))\n",
        "print(f\"Mean Absolute Error (original price): ${mae_rf_original:.2f}\")\n",
        "print(f\"Root Mean Squared Error (original price): ${rmse_rf_original:.2f}\")\n",
        "print(\"=\"*50 + \"\\n\")"
      ]
    },
    {
      "cell_type": "code",
      "execution_count": null,
      "metadata": {
        "id": "siLBZn4OdyL1",
        "outputId": "7cd09f57-cb2e-493c-9ff8-bc502c45ab16"
      },
      "outputs": [
        {
          "name": "stdout",
          "output_type": "stream",
          "text": [
            "\n",
            "==================================================\n",
            "       RANDOM FOREST REGRESSOR TUNING\n",
            "==================================================\n",
            "\n",
            "--- Starting Randomized Search for Random Forest ---\n",
            "Fitting 3 folds for each of 50 candidates, totalling 150 fits\n",
            "Randomized Search training time: 3457.92 seconds\n",
            "\n",
            "Best parameters found by Randomized Search:\n",
            "{'n_estimators': 700, 'min_samples_split': 2, 'min_samples_leaf': 1, 'max_features': 0.8, 'max_depth': None, 'bootstrap': False}\n",
            "Best cross-validation MAE (log_price): 0.1266\n",
            "\n",
            "--- Tuned Random Forest Evaluation (on log_price) ---\n",
            "R-squared (log_price): 0.8711\n",
            "Mean Absolute Error (log_price): 0.1128\n",
            "Root Mean Squared Error (log_price): 0.2214\n",
            "\n",
            "--- Tuned Random Forest Evaluation (on original price scale) ---\n",
            "Mean Absolute Error (original price): $1717.04\n",
            "Root Mean Squared Error (original price): $3586.50\n",
            "==================================================\n",
            "\n"
          ]
        }
      ],
      "source": [
        "print(\"\\n\" + \"=\"*50)\n",
        "print(\"       RANDOM FOREST REGRESSOR TUNING\")\n",
        "print(\"=\"*50 + \"\\n\")\n",
        "\n",
        "param_dist = {\n",
        "    'n_estimators': [100, 200, 300, 400, 500, 600, 700, 800, 900, 1000],\n",
        "    'max_features': ['sqrt', 'log2', 0.6, 0.8, 1.0], # Added numerical fractions\n",
        "    'max_depth': [10, 20, 30, 40, 50, None], # None means full depth\n",
        "    'min_samples_split': [2, 5, 10],\n",
        "    'min_samples_leaf': [1, 2, 4],\n",
        "    'bootstrap': [True, False]\n",
        "}\n",
        "\n",
        "# Creating a Random Forest Regressor instance\n",
        "rf_base = RandomForestRegressor(random_state=42)\n",
        "\n",
        "# Seting up RandomizedSearchCV\n",
        "# n_iter: Number of parameter settings that are sampled. More is better but slower.\n",
        "# cv: Number of cross-validation folds.\n",
        "# verbose: Controls the verbosity: higher means more messages.\n",
        "# n_jobs: Number of jobs to run in parallel. -1 means using all processors.\n",
        "random_search = RandomizedSearchCV(\n",
        "    estimator=rf_base,\n",
        "    param_distributions=param_dist,\n",
        "    n_iter=50,\n",
        "    cv=3,\n",
        "    verbose=2,\n",
        "    random_state=42,\n",
        "    n_jobs=-1,\n",
        "    scoring='neg_mean_absolute_error'\n",
        ")\n",
        "\n",
        "print(\"--- Starting Randomized Search for Random Forest ---\")\n",
        "start_time = time.time()\n",
        "random_search.fit(X_train, y_train)\n",
        "end_time = time.time()\n",
        "print(f\"Randomized Search training time: {end_time - start_time:.2f} seconds\")\n",
        "\n",
        "print(\"\\nBest parameters found by Randomized Search:\")\n",
        "print(random_search.best_params_)\n",
        "print(f\"Best cross-validation MAE (log_price): {-random_search.best_score_:.4f}\") # Convert back to positive MAE\n",
        "\n",
        "# Using the best estimator found by Randomized Search\n",
        "best_rf_model = random_search.best_estimator_\n",
        "\n",
        "# Evaluating the best model on the test set\n",
        "y_pred_rf_log = best_rf_model.predict(X_test)\n",
        "y_pred_rf_original = np.exp(y_pred_rf_log)\n",
        "y_test_original = np.exp(y_test)\n",
        "\n",
        "print(\"\\n--- Tuned Random Forest Evaluation (on log_price) ---\")\n",
        "r2_rf_tuned = r2_score(y_test, y_pred_rf_log)\n",
        "mae_rf_log_tuned = mean_absolute_error(y_test, y_pred_rf_log)\n",
        "rmse_rf_log_tuned = np.sqrt(mean_squared_error(y_test, y_pred_rf_log))\n",
        "print(f\"R-squared (log_price): {r2_rf_tuned:.4f}\")\n",
        "print(f\"Mean Absolute Error (log_price): {mae_rf_log_tuned:.4f}\")\n",
        "print(f\"Root Mean Squared Error (log_price): {rmse_rf_log_tuned:.4f}\")\n",
        "\n",
        "print(\"\\n--- Tuned Random Forest Evaluation (on original price scale) ---\")\n",
        "mae_rf_original_tuned = mean_absolute_error(y_test_original, y_pred_rf_original)\n",
        "rmse_rf_original_tuned = np.sqrt(mean_squared_error(y_test_original, y_pred_rf_original))\n",
        "print(f\"Mean Absolute Error (original price): ${mae_rf_original_tuned:.2f}\")\n",
        "print(f\"Root Mean Squared Error (original price): ${rmse_rf_original_tuned:.2f}\")\n",
        "print(\"=\"*50 + \"\\n\")"
      ]
    },
    {
      "cell_type": "code",
      "execution_count": null,
      "metadata": {
        "id": "o7Mpuv0CdyLz",
        "outputId": "08b5b99d-4556-4b2f-e5cf-4008555b0a07"
      },
      "outputs": [
        {
          "name": "stdout",
          "output_type": "stream",
          "text": [
            "\n",
            "==================================================\n",
            "     SCIKIT-LEARN GRADIENT BOOSTING REGRESSOR RESULTS\n",
            "==================================================\n",
            "\n",
            "--- Training Gradient Boosting Regressor (Scikit-learn GBR) ---\n",
            "Gradient Boosting training time: 10.65 seconds\n",
            "\n",
            "--- Gradient Boosting Regressor Evaluation (on log_price) ---\n",
            "R-squared (log_price): 0.7895\n",
            "Mean Absolute Error (log_price): 0.2083\n",
            "Root Mean Squared Error (log_price): 0.2830\n",
            "\n",
            "--- Gradient Boosting Regressor Evaluation (on original price scale) ---\n",
            "Mean Absolute Error (original price): $3658.67\n",
            "Root Mean Squared Error (original price): $5441.65\n",
            "==================================================\n",
            "\n"
          ]
        }
      ],
      "source": [
        "y_test_original = np.exp(y_test) #Inverse transform the actual log-price of the test set back to their original dollar scale\n",
        "\n",
        "print(\"\\n\" + \"=\"*50)\n",
        "print(\"     SCIKIT-LEARN GRADIENT BOOSTING REGRESSOR RESULTS\")\n",
        "print(\"=\"*50 + \"\\n\")\n",
        "\n",
        "print(\"--- Training Gradient Boosting Regressor (Scikit-learn GBR) ---\")\n",
        "gbr_model = GradientBoostingRegressor(n_estimators=100, random_state=42)\n",
        "start_time = time.time()\n",
        "gbr_model.fit(X_train, y_train)\n",
        "end_time = time.time()\n",
        "print(f\"Gradient Boosting training time: {end_time - start_time:.2f} seconds\")\n",
        "\n",
        "# Predictions\n",
        "y_pred_gbr_log = gbr_model.predict(X_test)\n",
        "y_pred_gbr_original = np.exp(y_pred_gbr_log)\n",
        "\n",
        "print(\"\\n--- Gradient Boosting Regressor Evaluation (on log_price) ---\")\n",
        "r2_gbr = r2_score(y_test, y_pred_gbr_log)\n",
        "mae_gbr_log = mean_absolute_error(y_test, y_pred_gbr_log)\n",
        "rmse_gbr_log = np.sqrt(mean_squared_error(y_test, y_pred_gbr_log))\n",
        "print(f\"R-squared (log_price): {r2_gbr:.4f}\")\n",
        "print(f\"Mean Absolute Error (log_price): {mae_gbr_log:.4f}\")\n",
        "print(f\"Root Mean Squared Error (log_price): {rmse_gbr_log:.4f}\")\n",
        "\n",
        "print(\"\\n--- Gradient Boosting Regressor Evaluation (on original price scale) ---\")\n",
        "mae_gbr_original = mean_absolute_error(y_test_original, y_pred_gbr_original)\n",
        "rmse_gbr_original = np.sqrt(mean_squared_error(y_test_original, y_pred_gbr_original))\n",
        "print(f\"Mean Absolute Error (original price): ${mae_gbr_original:.2f}\")\n",
        "print(f\"Root Mean Squared Error (original price): ${rmse_gbr_original:.2f}\")\n",
        "print(\"=\"*50 + \"\\n\")"
      ]
    },
    {
      "cell_type": "code",
      "execution_count": null,
      "metadata": {
        "id": "WqFcRJgmdyLz",
        "outputId": "cb10e3fa-3ae4-4e70-ddb0-43c97afe3150"
      },
      "outputs": [
        {
          "name": "stdout",
          "output_type": "stream",
          "text": [
            "\n",
            "==================================================\n",
            "           XGBOOST REGRESSOR RESULTS\n",
            "==================================================\n",
            "\n",
            "--- Training XGBoost Regressor ---\n",
            "XGBoost training time: 0.72 seconds\n",
            "\n",
            "--- XGBoost Regressor Evaluation (on log_price) ---\n",
            "R-squared (log_price): 0.8465\n",
            "Mean Absolute Error (log_price): 0.1726\n",
            "Root Mean Squared Error (log_price): 0.2416\n",
            "\n",
            "--- XGBoost Regressor Evaluation (on original price scale) ---\n",
            "Mean Absolute Error (original price): $2948.20\n",
            "Root Mean Squared Error (original price): $4415.52\n",
            "==================================================\n",
            "\n"
          ]
        }
      ],
      "source": [
        "y_test_original = np.exp(y_test) #Inverse transform the actual log-price of the test set back to their original dollar scale\n",
        "\n",
        "print(\"\\n\" + \"=\"*50)\n",
        "print(\"           XGBOOST REGRESSOR RESULTS\")\n",
        "print(\"=\"*50 + \"\\n\")\n",
        "\n",
        "print(\"--- Training XGBoost Regressor ---\")\n",
        "xgb_model = XGBRegressor(n_estimators=100, random_state=42, n_jobs=-1, tree_method='hist', eval_metric='rmse')\n",
        "# tree_method='hist': Uses the approximate histogram-based algorithm for tree construction, which is often faster and\n",
        "# more memory-efficient for large datasets compared to the exact greedy algorithm.\n",
        "# eval_metric='rmse': Sets the evaluation metric that will be used for validation during training.\n",
        "start_time = time.time()\n",
        "xgb_model.fit(X_train, y_train)\n",
        "end_time = time.time()\n",
        "print(f\"XGBoost training time: {end_time - start_time:.2f} seconds\")\n",
        "\n",
        "# Predictions\n",
        "y_pred_xgb_log = xgb_model.predict(X_test)\n",
        "y_pred_xgb_original = np.exp(y_pred_xgb_log)\n",
        "\n",
        "print(\"\\n--- XGBoost Regressor Evaluation (on log_price) ---\")\n",
        "r2_xgb = r2_score(y_test, y_pred_xgb_log)\n",
        "mae_xgb_log = mean_absolute_error(y_test, y_pred_xgb_log)\n",
        "rmse_xgb_log = np.sqrt(mean_squared_error(y_test, y_pred_xgb_log))\n",
        "print(f\"R-squared (log_price): {r2_xgb:.4f}\")\n",
        "print(f\"Mean Absolute Error (log_price): {mae_xgb_log:.4f}\")\n",
        "print(f\"Root Mean Squared Error (log_price): {rmse_xgb_log:.4f}\")\n",
        "\n",
        "print(\"\\n--- XGBoost Regressor Evaluation (on original price scale) ---\")\n",
        "mae_xgb_original = mean_absolute_error(y_test_original, y_pred_xgb_original)\n",
        "rmse_xgb_original = np.sqrt(mean_squared_error(y_test_original, y_pred_xgb_original))\n",
        "print(f\"Mean Absolute Error (original price): ${mae_xgb_original:.2f}\")\n",
        "print(f\"Root Mean Squared Error (original price): ${rmse_xgb_original:.2f}\")\n",
        "print(\"=\"*50 + \"\\n\")"
      ]
    },
    {
      "cell_type": "code",
      "execution_count": null,
      "metadata": {
        "id": "f3U8c360dyL0",
        "outputId": "194610b5-9075-4d5f-f310-09f50705c930"
      },
      "outputs": [
        {
          "name": "stdout",
          "output_type": "stream",
          "text": [
            "\n",
            "==================================================\n",
            "     GRIDSEARCHCV FOR GRADIENT BOOSTING REGRESSOR RESULTS\n",
            "==================================================\n",
            "\n",
            "--- GridSearchCV for Gradient Boosting Regressor (Hyperparameter Tuning) ---\n",
            "Fitting 3 folds for each of 8 candidates, totalling 24 fits\n",
            "GridSearchCV training time: 131.11 seconds\n",
            "\n",
            "Best parameters for Gradient Boosting: {'learning_rate': 0.1, 'max_depth': 5, 'n_estimators': 200}\n",
            "Best cross-validation score (negative MSE): -0.0622\n",
            "\n",
            "--- Tuned Gradient Boosting Regressor Evaluation (on log_price) ---\n",
            "R-squared (log_price): 0.8364\n",
            "Mean Absolute Error (log_price): 0.1801\n",
            "Root Mean Squared Error (log_price): 0.2494\n",
            "\n",
            "--- Tuned Gradient Boosting Regressor Evaluation (on original price scale) ---\n",
            "Mean Absolute Error (original price): $3113.07\n",
            "Root Mean Squared Error (original price): $4636.85\n",
            "==================================================\n",
            "\n"
          ]
        }
      ],
      "source": [
        "y_test_original = np.exp(y_test) #Inverse transform the actual log-price of the test set back to their original dollar scale\n",
        "\n",
        "print(\"\\n\" + \"=\"*50)\n",
        "print(\"     GRIDSEARCHCV FOR GRADIENT BOOSTING REGRESSOR RESULTS\")\n",
        "print(\"=\"*50 + \"\\n\")\n",
        "\n",
        "print(\"--- GridSearchCV for Gradient Boosting Regressor (Hyperparameter Tuning) ---\")\n",
        "param_grid_gbr = {\n",
        "    'n_estimators': [100, 200],\n",
        "    'learning_rate': [0.1, 0.05],\n",
        "    'max_depth': [3, 5],\n",
        "}\n",
        "# n-estimators: Defines the range of values for the 'n_estimators' hyperparameter (number of boosting stages/trees) to be searched.\n",
        "# learning rate:  Defines the range of values for the 'learning_rate' hyperparameter (shrinkage factor applied to each tree's contribution) to be searched.\n",
        "#max depth:  Defines the range of values for the 'max_depth' hyperparameter (maximum depth of individual trees) to be searched.\n",
        "\n",
        "gbr_grid = GridSearchCV(estimator=GradientBoostingRegressor(random_state=42),\n",
        "                        param_grid=param_grid_gbr,\n",
        "                        cv=3,\n",
        "                        scoring='neg_mean_squared_error',\n",
        "                        verbose=2,\n",
        "                        n_jobs=-1)\n",
        "#param_grid=param_grid_gbr: Provides the dictionary of hyperparameters and their values to be searched.\n",
        "# cv=3: Sets the number of folds for cross-validation. The training data will be split into 3 folds, and the model will be trained and evaluated 3 times for each parameter combination.\n",
        "# scoring='neg_mean_squared_error': Defines the metric to optimize during the search.\n",
        "# 'neg_mean_squared_error' is used because GridSearchCV aims to maximize the score, so the negative of MSE (which we want to minimize) is provided.\n",
        "# verbose=2: Controls the verbosity of the output. A value of 2 means it will print messages for each fit.\n",
        "# n_jobs=-1: Specifies to use all available CPU cores for parallel processing, significantly speeding up the grid search process.\n",
        "\n",
        "start_time = time.time()\n",
        "gbr_grid.fit(X_train, y_train)\n",
        "end_time = time.time()\n",
        "print(f\"GridSearchCV training time: {end_time - start_time:.2f} seconds\")\n",
        "\n",
        "best_gbr_model = gbr_grid.best_estimator_\n",
        "print(f\"\\nBest parameters for Gradient Boosting: {gbr_grid.best_params_}\")\n",
        "print(f\"Best cross-validation score (negative MSE): {gbr_grid.best_score_:.4f}\")\n",
        "\n",
        "# Make predictions with the best model\n",
        "y_pred_gbr_tuned_log = best_gbr_model.predict(X_test)\n",
        "y_pred_gbr_tuned_original = np.exp(y_pred_gbr_tuned_log)\n",
        "\n",
        "# Evaluate the best model\n",
        "print(\"\\n--- Tuned Gradient Boosting Regressor Evaluation (on log_price) ---\")\n",
        "r2_gbr_tuned = r2_score(y_test, y_pred_gbr_tuned_log)\n",
        "mae_gbr_tuned_log = mean_absolute_error(y_test, y_pred_gbr_tuned_log)\n",
        "rmse_gbr_tuned_log = np.sqrt(mean_squared_error(y_test, y_pred_gbr_tuned_log))\n",
        "print(f\"R-squared (log_price): {r2_gbr_tuned:.4f}\")\n",
        "print(f\"Mean Absolute Error (log_price): {mae_gbr_tuned_log:.4f}\")\n",
        "print(f\"Root Mean Squared Error (log_price): {rmse_gbr_tuned_log:.4f}\")\n",
        "\n",
        "print(\"\\n--- Tuned Gradient Boosting Regressor Evaluation (on original price scale) ---\")\n",
        "mae_gbr_tuned_original = mean_absolute_error(y_test_original, y_pred_gbr_tuned_original)\n",
        "rmse_gbr_tuned_original = np.sqrt(mean_squared_error(y_test_original, y_pred_gbr_tuned_original))\n",
        "print(f\"Mean Absolute Error (original price): ${mae_gbr_tuned_original:.2f}\")\n",
        "print(f\"Root Mean Squared Error (original price): ${rmse_gbr_tuned_original:.2f}\")\n",
        "print(\"=\"*50 + \"\\n\")"
      ]
    },
    {
      "cell_type": "code",
      "execution_count": null,
      "metadata": {
        "id": "DLwGFw0YdyL0",
        "outputId": "38f96bca-f091-4133-8412-f048c9a5305c"
      },
      "outputs": [
        {
          "name": "stdout",
          "output_type": "stream",
          "text": [
            "\n",
            "==================================================\n",
            "             LIGHTGBM REGRESSOR RESULTS\n",
            "==================================================\n",
            "\n",
            "--- Training LightGBM Regressor ---\n",
            "[LightGBM] [Warning] Found whitespace in feature_names, replace with underlines\n",
            "[LightGBM] [Info] Auto-choosing row-wise multi-threading, the overhead of testing was 0.004046 seconds.\n",
            "You can set `force_row_wise=true` to remove the overhead.\n",
            "And if memory is not enough, you can set `force_col_wise=true`.\n",
            "[LightGBM] [Info] Total Bins 369\n",
            "[LightGBM] [Info] Number of data points in the train set: 90290, number of used features: 49\n",
            "[LightGBM] [Info] Start training from score 9.654299\n",
            "LightGBM training time: 0.69 seconds\n",
            "\n",
            "--- LightGBM Evaluation (on log_price) ---\n",
            "R-squared (log_price): 0.8328\n",
            "Mean Absolute Error (log_price): 0.1820\n",
            "Root Mean Squared Error (log_price): 0.2522\n",
            "\n",
            "--- LightGBM Evaluation (on original price scale) ---\n",
            "Mean Absolute Error (original price): $3148.37\n",
            "Root Mean Squared Error (original price): $4684.75\n",
            "==================================================\n",
            "\n"
          ]
        }
      ],
      "source": [
        "y_test_original = np.exp(y_test)\n",
        "\n",
        "print(\"\\n\" + \"=\"*50)\n",
        "print(\"             LIGHTGBM REGRESSOR RESULTS\")\n",
        "print(\"=\"*50 + \"\\n\")\n",
        "\n",
        "print(\"--- Training LightGBM Regressor ---\")\n",
        "lgb_model = lgb.LGBMRegressor(n_estimators=100, random_state=42, n_jobs=-1)\n",
        "start_time = time.time()\n",
        "lgb_model.fit(X_train, y_train)\n",
        "end_time = time.time()\n",
        "print(f\"LightGBM training time: {end_time - start_time:.2f} seconds\")\n",
        "\n",
        "# Predictions\n",
        "y_pred_lgb_log = lgb_model.predict(X_test)\n",
        "y_pred_lgb_original = np.exp(y_pred_lgb_log)\n",
        "\n",
        "print(\"\\n--- LightGBM Evaluation (on log_price) ---\")\n",
        "r2_lgb = r2_score(y_test, y_pred_lgb_log)\n",
        "mae_lgb_log = mean_absolute_error(y_test, y_pred_lgb_log)\n",
        "rmse_lgb_log = np.sqrt(mean_squared_error(y_test, y_pred_lgb_log))\n",
        "print(f\"R-squared (log_price): {r2_lgb:.4f}\")\n",
        "print(f\"Mean Absolute Error (log_price): {mae_lgb_log:.4f}\")\n",
        "print(f\"Root Mean Squared Error (log_price): {rmse_lgb_log:.4f}\")\n",
        "\n",
        "print(\"\\n--- LightGBM Evaluation (on original price scale) ---\")\n",
        "mae_lgb_original = mean_absolute_error(y_test_original, y_pred_lgb_original)\n",
        "rmse_lgb_original = np.sqrt(mean_squared_error(y_test_original, y_pred_lgb_original))\n",
        "print(f\"Mean Absolute Error (original price): ${mae_lgb_original:.2f}\")\n",
        "print(f\"Root Mean Squared Error (original price): ${rmse_lgb_original:.2f}\")\n",
        "print(\"=\"*50 + \"\\n\")"
      ]
    },
    {
      "cell_type": "code",
      "execution_count": null,
      "metadata": {
        "id": "Tu0V4bDDdyL1",
        "outputId": "e484a122-1170-4db1-ac76-a7b1f853fd9a"
      },
      "outputs": [
        {
          "name": "stdout",
          "output_type": "stream",
          "text": [
            "\n",
            "==================================================\n",
            "             CATBOOST REGRESSOR RESULTS\n",
            "==================================================\n",
            "\n",
            "--- Training CatBoost Regressor ---\n",
            "CatBoost training time: 2.85 seconds\n",
            "\n",
            "--- CatBoost Evaluation (on log_price) ---\n",
            "R-squared (log_price): 0.8428\n",
            "Mean Absolute Error (log_price): 0.1748\n",
            "Root Mean Squared Error (log_price): 0.2445\n",
            "\n",
            "--- CatBoost Evaluation (on original price scale) ---\n",
            "Mean Absolute Error (original price): $2996.68\n",
            "Root Mean Squared Error (original price): $4488.08\n",
            "==================================================\n",
            "\n"
          ]
        }
      ],
      "source": [
        "y_test_original = np.exp(y_test)\n",
        "\n",
        "print(\"\\n\" + \"=\"*50)\n",
        "print(\"             CATBOOST REGRESSOR RESULTS\")\n",
        "print(\"=\"*50 + \"\\n\")\n",
        "\n",
        "print(\"--- Training CatBoost Regressor ---\")\n",
        "# CatBoost can handle categorical features directly if we tell it which columns are categorical.\n",
        "# However, since we've already one-hot encoded them, we'll treat all X as numerical.\n",
        "# categorical column names to cat_features parameter.\n",
        "cat_model = CatBoostRegressor(n_estimators=100, random_state=42, verbose=0)\n",
        "start_time = time.time()\n",
        "cat_model.fit(X_train, y_train)\n",
        "end_time = time.time()\n",
        "print(f\"CatBoost training time: {end_time - start_time:.2f} seconds\")\n",
        "\n",
        "# Predictions\n",
        "y_pred_cat_log = cat_model.predict(X_test)\n",
        "y_pred_cat_original = np.exp(y_pred_cat_log)\n",
        "\n",
        "print(\"\\n--- CatBoost Evaluation (on log_price) ---\")\n",
        "r2_cat = r2_score(y_test, y_pred_cat_log)\n",
        "mae_cat_log = mean_absolute_error(y_test, y_pred_cat_log)\n",
        "rmse_cat_log = np.sqrt(mean_squared_error(y_test, y_pred_cat_log))\n",
        "print(f\"R-squared (log_price): {r2_cat:.4f}\")\n",
        "print(f\"Mean Absolute Error (log_price): {mae_cat_log:.4f}\")\n",
        "print(f\"Root Mean Squared Error (log_price): {rmse_cat_log:.4f}\")\n",
        "\n",
        "print(\"\\n--- CatBoost Evaluation (on original price scale) ---\")\n",
        "mae_cat_original = mean_absolute_error(y_test_original, y_pred_cat_original)\n",
        "rmse_cat_original = np.sqrt(mean_squared_error(y_test_original, y_pred_cat_original))\n",
        "print(f\"Mean Absolute Error (original price): ${mae_cat_original:.2f}\")\n",
        "print(f\"Root Mean Squared Error (original price): ${rmse_cat_original:.2f}\")\n",
        "print(\"=\"*50 + \"\\n\")"
      ]
    },
    {
      "cell_type": "code",
      "execution_count": null,
      "metadata": {
        "id": "5ueqJ8ERdyL0",
        "outputId": "e661553d-51c0-416f-877c-f86a41495abc"
      },
      "outputs": [
        {
          "name": "stdout",
          "output_type": "stream",
          "text": [
            "\n",
            "==================================================\n",
            "             STACKING REGRESSOR RESULTS\n",
            "==================================================\n",
            "\n",
            "--- Training Stacking Regressor ---\n",
            "Stacking Regressor training time: 61.39 seconds\n",
            "\n",
            "--- Stacking Regressor Evaluation (on log_price) ---\n",
            "R-squared (log_price): 0.8880\n",
            "Mean Absolute Error (log_price): 0.1328\n",
            "Root Mean Squared Error (log_price): 0.2064\n",
            "\n",
            "--- Stacking Regressor Evaluation (on original price scale) ---\n",
            "Mean Absolute Error (original price): $2162.06\n",
            "Root Mean Squared Error (original price): $3497.35\n",
            "==================================================\n",
            "\n"
          ]
        }
      ],
      "source": [
        "y_test_original = np.exp(y_test) #Inverse transform the actual log-price of the test set back to their original dollar scale\n",
        "\n",
        "print(\"\\n\" + \"=\"*50)\n",
        "print(\"             STACKING REGRESSOR RESULTS\")\n",
        "print(\"=\"*50 + \"\\n\")\n",
        "\n",
        "estimators = [\n",
        "    ('rf', RandomForestRegressor(n_estimators=100, random_state=42, n_jobs=-1)),\n",
        "    ('gbr', GradientBoostingRegressor(n_estimators=100, random_state=42)),\n",
        "    ('xgb', XGBRegressor(n_estimators=100, random_state=42, n_jobs=-1, tree_method='hist', eval_metric='rmse'))\n",
        "\n",
        "]\n",
        "\n",
        "final_estimator = LinearRegression() # Or RidgeCV(), etc.\n",
        "\n",
        "stack_model = StackingRegressor(\n",
        "    estimators=estimators,\n",
        "    final_estimator=final_estimator,\n",
        "    cv=3, # Use cross-validation to prevent overfitting of the meta-learner\n",
        "    n_jobs=-1,\n",
        "    verbose=1\n",
        ")\n",
        "\n",
        "print(\"--- Training Stacking Regressor ---\")\n",
        "start_time = time.time()\n",
        "stack_model.fit(X_train, y_train)\n",
        "end_time = time.time()\n",
        "print(f\"Stacking Regressor training time: {end_time - start_time:.2f} seconds\")\n",
        "\n",
        "# Predictions\n",
        "y_pred_stack_log = stack_model.predict(X_test)\n",
        "y_pred_stack_original = np.exp(y_pred_stack_log)\n",
        "\n",
        "print(\"\\n--- Stacking Regressor Evaluation (on log_price) ---\")\n",
        "r2_stack = r2_score(y_test, y_pred_stack_log)\n",
        "mae_stack_log = mean_absolute_error(y_test, y_pred_stack_log)\n",
        "rmse_stack_log = np.sqrt(mean_squared_error(y_test, y_pred_stack_log))\n",
        "print(f\"R-squared (log_price): {r2_stack:.4f}\")\n",
        "print(f\"Mean Absolute Error (log_price): {mae_stack_log:.4f}\")\n",
        "print(f\"Root Mean Squared Error (log_price): {rmse_stack_log:.4f}\")\n",
        "\n",
        "print(\"\\n--- Stacking Regressor Evaluation (on original price scale) ---\")\n",
        "mae_stack_original = mean_absolute_error(y_test_original, y_pred_stack_original)\n",
        "rmse_stack_original = np.sqrt(mean_squared_error(y_test_original, y_pred_stack_original))\n",
        "print(f\"Mean Absolute Error (original price): ${mae_stack_original:.2f}\")\n",
        "print(f\"Root Mean Squared Error (original price): ${rmse_stack_original:.2f}\")\n",
        "print(\"=\"*50 + \"\\n\")"
      ]
    }
  ],
  "metadata": {
    "kernelspec": {
      "display_name": "Python 3",
      "language": "python",
      "name": "python3"
    },
    "language_info": {
      "codemirror_mode": {
        "name": "ipython",
        "version": 3
      },
      "file_extension": ".py",
      "mimetype": "text/x-python",
      "name": "python",
      "nbconvert_exporter": "python",
      "pygments_lexer": "ipython3",
      "version": "3.12.0"
    },
    "colab": {
      "provenance": []
    }
  },
  "nbformat": 4,
  "nbformat_minor": 0
}